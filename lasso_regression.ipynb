{
 "cells": [
  {
   "cell_type": "markdown",
   "metadata": {},
   "source": [
    "# Lasso\n",
    "Lasso ( menor operador de seleção e encolhimento absoluto) é um método de análise de regressão que executa seleção e regularização de variáveis para aumentar a precisão e a capacidade de interpretação do modelo estatístico produzido. \n",
    "\n",
    "A regressão de Lasso difere da regressão de rebordo de uma maneira que usa valores absolutos na função de penalidade, em vez de quadrados. Isto leva a penalizar (ou equivalentemente restringir a soma dos valores absolutos das estimativas) valores que fazem com que algumas das estimativas dos parâmetros sejam exatamente zero. Quanto maior a penalidade aplicada, mais as estimativas são reduzidas para o zero absoluto. Isso resulta na seleção de variáveis de n variáveis dadas.\n",
    "\n",
    "## Pontos importantes\n",
    "- As suposições desta regressão são as mesmas que a regressão do quadrado mínimo, exceto que a normalidade não deve ser assumida\n",
    "- Ele reduz os coeficientes para zero (exatamente zero), o que certamente ajuda na seleção de recursos\n",
    "- Este é um método de regularização e usa a regularização L1\n",
    "- Se o grupo de preditores estiver altamente correlacionado, o laço pega apenas um deles e encurta os outros para zero"
   ]
  },
  {
   "cell_type": "markdown",
   "metadata": {},
   "source": [
    "## Bibliotecas e Dados"
   ]
  },
  {
   "cell_type": "code",
   "execution_count": 54,
   "metadata": {},
   "outputs": [],
   "source": [
    "from sklearn.linear_model import Lasso\n",
    "import numpy as np\n",
    "import pandas as pd\n",
    "import logging\n",
    "import time\n",
    "from sklearn import metrics\n",
    "\n",
    "logger = logging.getLogger('spam_application')\n",
    "logger.setLevel(logging.DEBUG)\n",
    "\n",
    "def move_column_to_front(data, column_name):\n",
    "    # Move selected column to 0 position. can be used to isolate the Y column.\n",
    "    \n",
    "    mid = data[column_name]\n",
    "    data.drop(labels=[column_name], axis=1,inplace = True)\n",
    "    data.insert(0, column_name, mid)\n",
    "    del mid\n",
    "    return data\n",
    "\n",
    "\n",
    "def load_and_prepare_data(training_set_number=2500):\n",
    "    # prepare data and return x_train, x_test, y_train and y_test\n",
    "    \n",
    "    # loading data\n",
    "    data = 'SkillCraft.csv'\n",
    "    df = pd.read_csv(data)\n",
    "    \n",
    "    # identifying Y column name\n",
    "    y_column = 'APM'\n",
    "    \n",
    "    # training_set_number must be in interval [0, len(df)]. otherwise, will be 75%.\n",
    "    if training_set_number >= len(df) or training_set_number <= 0:\n",
    "        training_set_number = int(0.75 * len(df))\n",
    "    \n",
    "    # deleting GameID\n",
    "    logger.info('creating an instance of auxiliary_module.Auxiliary')\n",
    "    cleaned_data = df.drop('GameID', 1)\n",
    "\n",
    "    # move APM column to front\n",
    "    cleaned_data = move_column_to_front(cleaned_data, y_column)\n",
    "\n",
    "    # Checando se existem valores nulos\n",
    "    null_values = cleaned_data.isnull().values.any()\n",
    "    assert null_values == False\n",
    "    \n",
    "    # isolating training set\n",
    "    train=cleaned_data.iloc[:training_set_number]\n",
    "    \n",
    "    # isolating test set\n",
    "    test=cleaned_data[training_set_number:]\n",
    "\n",
    "\n",
    "    x_train = train.iloc[:, 1:].values\n",
    "    x_test = test.iloc[:, 1:].values\n",
    "    y_train = train[y_column].values\n",
    "    y_test = test[y_column].values\n",
    "    \n",
    "    return x_train, x_test, y_train, y_test\n",
    "\n",
    "# Divide os dados em conjunto de treinamento e em conjunto de teste\n",
    "features_train, features_test, apm_train, apm_test = load_and_prepare_data()"
   ]
  },
  {
   "cell_type": "code",
   "execution_count": 55,
   "metadata": {},
   "outputs": [],
   "source": [
    "def train_regression(lasso, features_train, features_test, apm_train, apm_test):\n",
    "    # Treinamento\n",
    "    start = time.time()\n",
    "    lasso.fit(features_train, apm_train)\n",
    "    end = time.time()\n",
    "    print (\"Training time: {}ms\".format(int((end-start)*1000*1000)/1000))\n",
    "\n",
    "    # Predict\n",
    "    predicted = lasso.predict(features_test)\n",
    "\n",
    "    # print statistics\n",
    "    print(\"Explained variance score: {}%\".format(int((metrics.explained_variance_score(apm_test, predicted))*10000)/100))\n",
    "    print(\"R2 score: {}%\".format(int((metrics.r2_score(apm_test, predicted))*10000)/100))\n",
    "    print(\"Mean absolute error: {}\".format(int((metrics.mean_absolute_error(apm_test, predicted)*1000))/1000))\n",
    "    print(\"Mean squared error: {}\".format(int((metrics.mean_squared_error(apm_test, predicted)*1000))/1000))\n",
    "    print(\"Median absolute error: {}\".format(int((metrics.median_absolute_error(apm_test, predicted)*1000))/1000))"
   ]
  },
  {
   "cell_type": "markdown",
   "metadata": {},
   "source": [
    "# Descrição dos Parâmetros\n",
    "- alpha é a constante que multiplica L1 e o intervalo vao de 0 (zero) a 1.0, sendo 0 (zero) o equivalente ao algoritmo de Regressão Linear\n",
    "- fit_intercept é um parametro booleano que indica se será calculada a interceptação para este modelo.\n",
    "- normilize é um booleano que indica se os regressores X serão normalizados.\n",
    "- precompute serve para acelerar os calculos caso seja igual a True\n",
    "- max_iter é o número máximo de interações \n",
    "- tol é a tolerancia para otimização, se as atualizações forem menores que tol, para de atualizar."
   ]
  },
  {
   "cell_type": "code",
   "execution_count": 43,
   "metadata": {},
   "outputs": [
    {
     "name": "stdout",
     "output_type": "stream",
     "text": [
      "Training time: 6.366ms\n",
      "Explained variance score: 62.59%\n",
      "R2 score: 62.25%\n",
      "Mean absolute error: 20.247\n",
      "Mean squared error: 934.876\n",
      "Median absolute error: 14.209\n"
     ]
    }
   ],
   "source": [
    "# Teste com os valores default \n",
    "lasso = Lasso(alpha=1.0,\n",
    "        fit_intercept=True,\n",
    "        normalize=False,\n",
    "        precompute=False,\n",
    "        copy_X=True,\n",
    "        max_iter=1000,\n",
    "        tol=0.0001,\n",
    "        warm_start=False,\n",
    "        positive=False,\n",
    "        random_state=None,\n",
    "        selection='cyclic')\n",
    "train_regression(lasso, features_train, features_test, apm_train, apm_test)"
   ]
  },
  {
   "cell_type": "code",
   "execution_count": 44,
   "metadata": {},
   "outputs": [
    {
     "name": "stdout",
     "output_type": "stream",
     "text": [
      "Training time: 5.746ms\n",
      "Explained variance score: 92.49%\n",
      "R2 score: 92.48%\n",
      "Mean absolute error: 10.105\n",
      "Mean squared error: 186.028\n",
      "Median absolute error: 7.984\n"
     ]
    }
   ],
   "source": [
    "# Teste com os valores default e alpha=0.01\n",
    "lasso = Lasso(alpha=0.01,\n",
    "        fit_intercept=True,\n",
    "        normalize=False,\n",
    "        precompute=False,\n",
    "        copy_X=True,\n",
    "        max_iter=1000,\n",
    "        tol=0.0001,\n",
    "        warm_start=False,\n",
    "        positive=False,\n",
    "        random_state=None,\n",
    "        selection='cyclic')\n",
    "train_regression(lasso, features_train, features_test, apm_train, apm_test)"
   ]
  },
  {
   "cell_type": "code",
   "execution_count": 45,
   "metadata": {},
   "outputs": [
    {
     "name": "stdout",
     "output_type": "stream",
     "text": [
      "Training time: 12.865ms\n",
      "Explained variance score: 97.09%\n",
      "R2 score: 97.09%\n",
      "Mean absolute error: 5.702\n",
      "Mean squared error: 71.989\n",
      "Median absolute error: 3.935\n"
     ]
    }
   ],
   "source": [
    "# Teste com os valores default e alpha=0.00001\n",
    "lasso = Lasso(alpha=0.00001,\n",
    "        fit_intercept=True,\n",
    "        normalize=False,\n",
    "        precompute=False,\n",
    "        copy_X=True,\n",
    "        max_iter=1000,\n",
    "        tol=0.0001,\n",
    "        warm_start=False,\n",
    "        positive=False,\n",
    "        random_state=None,\n",
    "        selection='cyclic')\n",
    "train_regression(lasso, features_train, features_test, apm_train, apm_test)"
   ]
  },
  {
   "cell_type": "code",
   "execution_count": 50,
   "metadata": {},
   "outputs": [
    {
     "name": "stdout",
     "output_type": "stream",
     "text": [
      "Training time: 10.833ms\n",
      "Explained variance score: 96.86%\n",
      "R2 score: 96.86%\n",
      "Mean absolute error: 5.893\n",
      "Mean squared error: 77.581\n",
      "Median absolute error: 4.24\n"
     ]
    }
   ],
   "source": [
    "# Teste com os valores default e alpha=0.00001, max_inter=1000000, tol=0.00000001, selection='random'\n",
    "lasso = Lasso(alpha=0.00001,\n",
    "        fit_intercept=True,\n",
    "        normalize=True,\n",
    "        precompute=False,\n",
    "        copy_X=True,\n",
    "        max_iter=1000000,\n",
    "        tol=0.00000001,\n",
    "        warm_start=False,\n",
    "        positive=True,\n",
    "        random_state=None,\n",
    "        selection='random')\n",
    "train_regression(lasso, features_train, features_test, apm_train, apm_test)"
   ]
  },
  {
   "cell_type": "code",
   "execution_count": 51,
   "metadata": {},
   "outputs": [
    {
     "name": "stdout",
     "output_type": "stream",
     "text": [
      "Training time: 179.704ms\n",
      "Explained variance score: 96.91%\n",
      "R2 score: 96.91%\n",
      "Mean absolute error: 6.198\n",
      "Mean squared error: 76.458\n",
      "Median absolute error: 4.631\n"
     ]
    }
   ],
   "source": [
    "# Teste com os valores default e alpha=0.00001, max_inter=1000000, tol=0.00000001, fit_intercept=False, positive=False, selection='random'\n",
    "lasso = Lasso(alpha=0.00001,\n",
    "        fit_intercept=False,\n",
    "        normalize=True,\n",
    "        precompute=False,\n",
    "        copy_X=True,\n",
    "        max_iter=1000000,\n",
    "        tol=0.00000001,\n",
    "        warm_start=False,\n",
    "        positive=False,\n",
    "        random_state=None,\n",
    "        selection='random')\n",
    "train_regression(lasso, features_train, features_test, apm_train, apm_test)"
   ]
  },
  {
   "cell_type": "code",
   "execution_count": 52,
   "metadata": {},
   "outputs": [
    {
     "name": "stdout",
     "output_type": "stream",
     "text": [
      "Training time: 50.602ms\n",
      "Explained variance score: 91.02%\n",
      "R2 score: 91.01%\n",
      "Mean absolute error: 12.116\n",
      "Mean squared error: 222.473\n",
      "Median absolute error: 10.877\n"
     ]
    }
   ],
   "source": [
    "# Teste com os valores default e alpha=0.00001, max_inter=1000000, tol=0.00000001, fit_intercept=False, positive=False, selection='random', positive=True\n",
    "lasso = Lasso(alpha=0.00001,\n",
    "        fit_intercept=False,\n",
    "        normalize=True,\n",
    "        precompute=False,\n",
    "        copy_X=True,\n",
    "        max_iter=1000000,\n",
    "        tol=0.00000001,\n",
    "        warm_start=False,\n",
    "        positive=True,\n",
    "        random_state=None,\n",
    "        selection='random')\n",
    "train_regression(lasso, features_train, features_test, apm_train, apm_test)"
   ]
  },
  {
   "cell_type": "code",
   "execution_count": 53,
   "metadata": {},
   "outputs": [
    {
     "name": "stdout",
     "output_type": "stream",
     "text": [
      "Training time: 42.699ms\n",
      "Explained variance score: 91.02%\n",
      "R2 score: 91.01%\n",
      "Mean absolute error: 12.116\n",
      "Mean squared error: 222.473\n",
      "Median absolute error: 10.877\n"
     ]
    }
   ],
   "source": [
    "# Teste com os valores default e alpha=0.00001, max_inter=1000000, tol=0.00000001, fit_intercept=False, positive=False, selection='cyclic', positive=True\n",
    "lasso = Lasso(alpha=0.00001,\n",
    "        fit_intercept=False,\n",
    "        normalize=True,\n",
    "        precompute=False,\n",
    "        copy_X=True,\n",
    "        max_iter=1000000,\n",
    "        tol=0.00000001,\n",
    "        warm_start=False,\n",
    "        positive=True,\n",
    "        random_state=None,\n",
    "        selection='cyclic')\n",
    "train_regression(lasso, features_train, features_test, apm_train, apm_test)"
   ]
  },
  {
   "cell_type": "code",
   "execution_count": null,
   "metadata": {},
   "outputs": [],
   "source": []
  }
 ],
 "metadata": {
  "kernelspec": {
   "display_name": "Python 3",
   "language": "python",
   "name": "python3"
  },
  "language_info": {
   "codemirror_mode": {
    "name": "ipython",
    "version": 3
   },
   "file_extension": ".py",
   "mimetype": "text/x-python",
   "name": "python",
   "nbconvert_exporter": "python",
   "pygments_lexer": "ipython3",
   "version": "3.5.2"
  }
 },
 "nbformat": 4,
 "nbformat_minor": 2
}
