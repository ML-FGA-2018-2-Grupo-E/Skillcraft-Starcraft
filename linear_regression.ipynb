{
 "cells": [
  {
   "cell_type": "markdown",
   "metadata": {},
   "source": [
    "## __Técnica:__ Linear Regression"
   ]
  },
  {
   "cell_type": "code",
   "execution_count": 1,
   "metadata": {},
   "outputs": [],
   "source": [
    "from sklearn import metrics, tree\n",
    "import logging\n",
    "import matplotlib.pyplot as plt\n",
    "import pandas as pd\n",
    "import numpy as np\n",
    "import seaborn as sb\n",
    "import itertools\n",
    "from sklearn import datasets, linear_model\n",
    "from sklearn.metrics import mean_squared_error, r2_score\n",
    "from sklearn import svm, datasets\n",
    "from sklearn.model_selection import train_test_split\n",
    "\n",
    "logger = logging.getLogger('spam_application')\n",
    "logger.setLevel(logging.DEBUG)\n",
    "\n",
    "\n",
    "def move_column_to_front(data, column_name):\n",
    "    mid = data[column_name]\n",
    "    data.drop(labels=[column_name], axis=1,inplace = True)\n",
    "    data.insert(0, column_name, mid)\n",
    "    del mid\n",
    "    return data\n",
    "\n",
    "\n",
    "def load_and_prepare_data(training_set_number=2500):\n",
    "    data = 'SkillCraft.csv'\n",
    "    df = pd.read_csv(data)\n",
    "    y_column = 'APM'\n",
    "    if training_set_number > len(df):\n",
    "        training_set_number = int(0.75 * len(df))\n",
    "    \n",
    "    # Removendo GameID\n",
    "    logger.info('creating an instance of auxiliary_module.Auxiliary')\n",
    "    cleaned_data = df.drop('GameID', 1)\n",
    "\n",
    "    # move APM column to front\n",
    "    cleaned_data = move_column_to_front(cleaned_data, y_column)\n",
    "\n",
    "    # Checando se existem valores nulos\n",
    "    null_values = cleaned_data.isnull().values.any()\n",
    "    assert null_values == False\n",
    "    \n",
    "    train=cleaned_data.iloc[:training_set_number]\n",
    "    test=cleaned_data[training_set_number:]\n",
    "\n",
    "\n",
    "    x_train = train.iloc[:, 1:].values\n",
    "    x_test = test.iloc[:, 1:].values\n",
    "    y_train = train[y_column].values\n",
    "    y_test = test[y_column].values\n",
    "    return x_train, x_test, y_train, y_test\n"
   ]
  },
  {
   "cell_type": "code",
   "execution_count": 2,
   "metadata": {},
   "outputs": [],
   "source": [
    "# Divide os dados em conjunto de treinamento e em conjunto de teste\n",
    "X_train, X_test, y_train, y_test = load_and_prepare_data()"
   ]
  },
  {
   "cell_type": "code",
   "execution_count": 3,
   "metadata": {},
   "outputs": [],
   "source": [
    "lr = linear_model.LinearRegression(copy_X= True, fit_intercept= True, normalize= True)\n",
    "\n",
    "y_pred = lr.fit(X_train, y_train).predict(X_test)"
   ]
  },
  {
   "cell_type": "code",
   "execution_count": 4,
   "metadata": {},
   "outputs": [
    {
     "name": "stdout",
     "output_type": "stream",
     "text": [
      "Intercepts: \n",
      " -44.48468936955791\n",
      "Coefficients: \n",
      " [-1.66581951e-01 -1.23514973e-01 -5.14165576e-03  6.21607451e-06\n",
      "  5.55026701e+03 -1.18301286e+03  1.06539798e-01  3.22636588e+03\n",
      "  3.69083009e+03  2.33551908e+04 -1.23627230e-02 -1.62371699e-01\n",
      "  1.29292798e+01  1.95146058e-02  2.81068113e+03 -3.05825742e-01\n",
      "  2.06742145e+03 -2.88854191e+03]\n"
     ]
    }
   ],
   "source": [
    "# The coefficients\n",
    "print('Intercepts: \\n', lr.intercept_)\n",
    "print('Coefficients: \\n', lr.coef_)\n"
   ]
  },
  {
   "cell_type": "code",
   "execution_count": 5,
   "metadata": {},
   "outputs": [
    {
     "name": "stdout",
     "output_type": "stream",
     "text": [
      "R^2: 0.9709348313563865\n"
     ]
    }
   ],
   "source": [
    "from sklearn.metrics import mean_absolute_error\n",
    "\n",
    "print(\"R^2: {}\".format(lr.score(X_test, y_test)))"
   ]
  },
  {
   "cell_type": "code",
   "execution_count": 6,
   "metadata": {},
   "outputs": [
    {
     "name": "stdout",
     "output_type": "stream",
     "text": [
      "Mean Squared Error: 71.98622608222855\n"
     ]
    }
   ],
   "source": [
    "from sklearn.metrics import mean_squared_error\n",
    "mse = mean_squared_error(y_test, y_pred)\n",
    "print(\"Mean Squared Error: {}\".format(mse))"
   ]
  },
  {
   "cell_type": "code",
   "execution_count": 7,
   "metadata": {},
   "outputs": [
    {
     "name": "stdout",
     "output_type": "stream",
     "text": [
      "Mean Absolute Error: 5.707223447640464\n"
     ]
    }
   ],
   "source": [
    "mae = mean_absolute_error(y_test, y_pred)\n",
    "print(\"Mean Absolute Error: {}\".format(mae))"
   ]
  }
 ],
 "metadata": {
  "kernelspec": {
   "display_name": "Python 3",
   "language": "python",
   "name": "python3"
  },
  "language_info": {
   "codemirror_mode": {
    "name": "ipython",
    "version": 3
   },
   "file_extension": ".py",
   "mimetype": "text/x-python",
   "name": "python",
   "nbconvert_exporter": "python",
   "pygments_lexer": "ipython3",
   "version": "3.6.5"
  }
 },
 "nbformat": 4,
 "nbformat_minor": 2
}
