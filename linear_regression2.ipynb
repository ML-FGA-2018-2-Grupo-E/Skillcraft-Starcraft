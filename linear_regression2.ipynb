{
 "cells": [
  {
   "cell_type": "code",
   "execution_count": 30,
   "metadata": {},
   "outputs": [
    {
     "name": "stdout",
     "output_type": "stream",
     "text": [
      "100: 0.9466279561547346\n",
      "200: 0.9144624647213067\n",
      "300: 0.9180974645627065\n",
      "400: 0.9229611951492436\n",
      "500: 0.9253352856250102\n",
      "600: 0.9609886847315762\n",
      "700: 0.9570670509748377\n",
      "800: 0.9723059098660258\n",
      "900: 0.9726116286969345\n",
      "1000: 0.9724365609021608\n",
      "1100: 0.971073048803296\n",
      "1200: 0.9684937056187555\n",
      "1300: 0.9619782530213535\n",
      "1400: 0.9598163698412456\n",
      "1500: 0.9558965270640121\n",
      "1600: 0.9536103531892507\n",
      "1700: 0.961172154821441\n",
      "1800: 0.9729631982041719\n",
      "1900: 0.9723548355743497\n",
      "2000: 0.9719555272653252\n",
      "2100: 0.9704038925487121\n",
      "2200: 0.9710169598119492\n",
      "2300: 0.9713267276319204\n",
      "2400: 0.9703376166514707\n",
      "2500: 0.9709348313563861\n"
     ]
    }
   ],
   "source": [
    "from sklearn.linear_model import Lasso\n",
    "import numpy as np\n",
    "import pandas as pd\n",
    "import logging\n",
    "import time\n",
    "from sklearn import metrics\n",
    "from sklearn.linear_model import LinearRegression\n",
    "\n",
    "\n",
    "logger = logging.getLogger('spam_application')\n",
    "logger.setLevel(logging.DEBUG)\n",
    "\n",
    "\n",
    "def move_column_to_front(data, column_name):\n",
    "    mid = data[column_name]\n",
    "    data.drop(labels=[column_name], axis=1,inplace = True)\n",
    "    data.insert(0, column_name, mid)\n",
    "    del mid\n",
    "    return data\n",
    "\n",
    "\n",
    "def load_and_prepare_data(training_set_number=2500):\n",
    "    data = 'SkillCraft.csv'\n",
    "    df = pd.read_csv(data)\n",
    "    y_column = 'APM'\n",
    "    if training_set_number > len(df):\n",
    "        training_set_number = int(0.75 * len(df))\n",
    "    \n",
    "    # Removendo GameID\n",
    "    logger.info('creating an instance of auxiliary_module.Auxiliary')\n",
    "    cleaned_data = df.drop('GameID', 1)\n",
    "\n",
    "    # move APM column to front\n",
    "    cleaned_data = move_column_to_front(cleaned_data, y_column)\n",
    "\n",
    "    # Checando se existem valores nulos\n",
    "    null_values = cleaned_data.isnull().values.any()\n",
    "    assert null_values == False\n",
    "    \n",
    "    train=cleaned_data.iloc[:training_set_number]\n",
    "    test=cleaned_data[training_set_number:]\n",
    "\n",
    "\n",
    "    x_train = train.iloc[:, 1:].values\n",
    "    x_test = test.iloc[:, 1:].values\n",
    "    y_train = train[y_column].values\n",
    "    y_test = test[y_column].values\n",
    "    return x_train, x_test, y_train, y_test\n",
    "\n",
    "accuracy_list = list()\n",
    "\n",
    "for training_number in range(100, 2501, 100):\n",
    "    # Divide os dados em conjunto de treinamento e em conjunto de teste\n",
    "    features_train, features_test, apm_train, apm_test = load_and_prepare_data(training_number)\n",
    "\n",
    "    clf = LinearRegression(normalize=False)\n",
    "    clf = clf.fit(features_train, apm_train)\n",
    "\n",
    "    accuracy = clf.score(features_test, apm_test)\n",
    "    accuracy_list.append(accuracy)\n",
    "\n",
    "\n",
    "    print(\"{}: \".format(training_number) + str(accuracy))"
   ]
  },
  {
   "cell_type": "code",
   "execution_count": 42,
   "metadata": {},
   "outputs": [
    {
     "data": {
      "image/png": "[encoded data removed]",
      "text/plain": [
       "<Figure size 432x288 with 1 Axes>"
      ]
     },
     "metadata": {
      "needs_background": "light"
     },
     "output_type": "display_data"
    }
   ],
   "source": [
    "import matplotlib.pyplot as plt\n",
    "\n",
    "# Grafico de acurácia em relação a numero de valores usados para treinar\n",
    "xticks = ['0', '500', '1000', '1500', '2000', '2500']\n",
    "\n",
    "plt.plot(accuracy_list)\n",
    "plt.xlabel('Valores utilizados para treinar')\n",
    "plt.ylabel('Acurácia')\n",
    "plt.xticks(range(0, 26, 5), xticks, size='small')\n",
    "plt.yticks(np.arange(0, 1.1, step=0.1))\n",
    "plt.show()"
   ]
  },
  {
   "cell_type": "code",
   "execution_count": 34,
   "metadata": {},
   "outputs": [
    {
     "name": "stdout",
     "output_type": "stream",
     "text": [
      "Accuracy 0.9709348313563861\n",
      "Explained Variace Score: 0.9697645553845343\n",
      "Median Absolute Error: 4.0012496782392475\n"
     ]
    }
   ],
   "source": [
    "#Métricas\n",
    "apm_pred = clf.predict(features_test)\n",
    "\n",
    "evs = metrics.explained_variance_score(apm_pred, apm_test)\n",
    "mae = metrics.median_absolute_error(apm_pred, apm_test)\n",
    "\n",
    "print(\"Accuracy {}\" .format(accuracy))\n",
    "print(\"Explained Variace Score: {}\" .format(evs))\n",
    "print(\"Median Absolute Error: {}\" .format(mae))"
   ]
  }
 ],
 "metadata": {
  "kernelspec": {
   "display_name": "Python 3",
   "language": "python",
   "name": "python3"
  },
  "language_info": {
   "codemirror_mode": {
    "name": "ipython",
    "version": 3
   },
   "file_extension": ".py",
   "mimetype": "text/x-python",
   "name": "python",
   "nbconvert_exporter": "python",
   "pygments_lexer": "ipython3",
   "version": "3.7.0"
  }
 },
 "nbformat": 4,
 "nbformat_minor": 2
}
