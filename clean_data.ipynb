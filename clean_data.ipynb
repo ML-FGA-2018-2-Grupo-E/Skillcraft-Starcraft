{
 "cells": [
  {
   "cell_type": "code",
   "execution_count": 49,
   "metadata": {},
   "outputs": [],
   "source": [
    "from sklearn import metrics, tree\n",
    "import numpy as np\n",
    "import pandas as pd\n",
    "import logging\n",
    "\n",
    "\n",
    "logger = logging.getLogger('spam_application')\n",
    "logger.setLevel(logging.DEBUG)\n",
    "\n",
    "data = 'SkillCraft.csv'\n",
    "\n",
    "df = pd.read_csv(data)\n",
    "\n",
    "\n",
    "# Removendo GameID\n",
    "logger.info('creating an instance of auxiliary_module.Auxiliary')\n",
    "cleaned_data = df.drop('GameID', 1)\n",
    "\n",
    "# Checando se existem valores nulos\n",
    "null_values = cleaned_data.isnull().values.any()\n",
    "assert null_values == False"
   ]
  }
 ],
 "metadata": {
  "kernelspec": {
   "display_name": "Python 3",
   "language": "python",
   "name": "python3"
  },
  "language_info": {
   "codemirror_mode": {
    "name": "ipython",
    "version": 3
   },
   "file_extension": ".py",
   "mimetype": "text/x-python",
   "name": "python",
   "nbconvert_exporter": "python",
   "pygments_lexer": "ipython3",
   "version": "3.6.5"
  }
 },
 "nbformat": 4,
 "nbformat_minor": 2
}
