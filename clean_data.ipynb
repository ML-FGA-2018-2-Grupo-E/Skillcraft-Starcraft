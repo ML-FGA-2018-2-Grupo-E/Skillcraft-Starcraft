{
 "cells": [
  {
   "cell_type": "code",
   "execution_count": 1,
   "metadata": {},
   "outputs": [],
   "source": [
    "import numpy as np\n",
    "import pandas as pd\n",
    "import time\n",
    "from sklearn import metrics\n",
    "\n",
    "\n",
    "def move_column_to_front(data, column_name):\n",
    "    mid = data[column_name]\n",
    "    data.drop(labels=[column_name], axis=1,inplace = True)\n",
    "    data.insert(0, column_name, mid)\n",
    "    del mid\n",
    "    return data\n",
    "\n",
    "\n",
    "def load_and_prepare_data(training_set_number=2500):\n",
    "    data = 'SkillCraft.csv'\n",
    "    df = pd.read_csv(data)\n",
    "    y_column = 'APM'\n",
    "    if training_set_number > len(df):\n",
    "        training_set_number = int(0.75 * len(df))\n",
    "    \n",
    "    # Removendo GameID\n",
    "    cleaned_data = df.drop('GameID', 1)\n",
    "\n",
    "    # move APM column to front\n",
    "    cleaned_data = move_column_to_front(cleaned_data, y_column)\n",
    "\n",
    "    # Checando se existem valores nulos\n",
    "    null_values = cleaned_data.isnull().values.any()\n",
    "    assert null_values == False\n",
    "    \n",
    "    train=cleaned_data.iloc[:training_set_number]\n",
    "    test=cleaned_data[training_set_number:]\n",
    "\n",
    "\n",
    "    x_train = train.iloc[:, 1:].values\n",
    "    x_test = test.iloc[:, 1:].values\n",
    "    y_train = train[y_column].values\n",
    "    y_test = test[y_column].values\n",
    "    return x_train, x_test, y_train, y_test\n",
    "\n",
    "# Divide os dados em conjunto de treinamento e em conjunto de teste\n",
    "features_train, features_test, apm_train, apm_test = load_and_prepare_data()"
   ]
  },
  {
   "cell_type": "code",
   "execution_count": null,
   "metadata": {},
   "outputs": [],
   "source": []
  }
 ],
 "metadata": {
  "kernelspec": {
   "display_name": "Python 3",
   "language": "python",
   "name": "python3"
  },
  "language_info": {
   "codemirror_mode": {
    "name": "ipython",
    "version": 3
   },
   "file_extension": ".py",
   "mimetype": "text/x-python",
   "name": "python",
   "nbconvert_exporter": "python",
   "pygments_lexer": "ipython3",
   "version": "3.6.5"
  }
 },
 "nbformat": 4,
 "nbformat_minor": 2
}
