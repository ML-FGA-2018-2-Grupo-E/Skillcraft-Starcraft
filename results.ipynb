{
 "cells": [
  {
   "cell_type": "markdown",
   "metadata": {},
   "source": [
    "# Resultados\n",
    "\n",
    "Seguem na tabela abaixo, os resultados das métricas para cada uma das técnicas aplicadas:\n",
    "\n",
    "| Técnica | R2 | Mean absolute error | \n",
    "|:---:|:---:|:---:|:---:|:---:|\n",
    "| Lasso Regression | 97.09% | 5.702 |\n",
    "| Ridge Regression | 97.09% | 5.688 |\n",
    "| Linear Regression | 97.09% | 4.001 |"
   ]
  }
 ],
 "metadata": {
  "kernelspec": {
   "display_name": "Python 3",
   "language": "python",
   "name": "python3"
  },
  "language_info": {
   "codemirror_mode": {
    "name": "ipython",
    "version": 3
   },
   "file_extension": ".py",
   "mimetype": "text/x-python",
   "name": "python",
   "nbconvert_exporter": "python",
   "pygments_lexer": "ipython3",
   "version": "3.6.5"
  }
 },
 "nbformat": 4,
 "nbformat_minor": 2
}
